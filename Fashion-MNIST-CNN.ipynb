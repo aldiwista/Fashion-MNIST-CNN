{
 "cells": [
  {
   "cell_type": "code",
   "execution_count": 1,
   "metadata": {},
   "outputs": [],
   "source": [
    "import tensorflow as tf"
   ]
  },
  {
   "cell_type": "code",
   "execution_count": 4,
   "metadata": {},
   "outputs": [
    {
     "name": "stdout",
     "output_type": "stream",
     "text": [
      "Downloading data from https://storage.googleapis.com/tensorflow/tf-keras-datasets/train-labels-idx1-ubyte.gz\n",
      "32768/29515 [=================================] - 0s 2us/step\n",
      "Downloading data from https://storage.googleapis.com/tensorflow/tf-keras-datasets/train-images-idx3-ubyte.gz\n",
      "26427392/26421880 [==============================] - 60s 2us/step\n",
      "Downloading data from https://storage.googleapis.com/tensorflow/tf-keras-datasets/t10k-labels-idx1-ubyte.gz\n",
      "8192/5148 [===============================================] - 0s 0us/step\n",
      "Downloading data from https://storage.googleapis.com/tensorflow/tf-keras-datasets/t10k-images-idx3-ubyte.gz\n",
      "4423680/4422102 [==============================] - 6s 1us/step\n"
     ]
    }
   ],
   "source": [
    "mnist = tf.keras.datasets.fashion_mnist\n",
    "(training_images, training_labels), (val_images, val_labels) = mnist.load_data()\n",
    "training_images = training_images.reshape(60000, 28, 28, 1)\n",
    "training_images = training_images /255.0\n",
    "val_images = val_images.reshape(10000, 28, 28, 1)\n",
    "val_images = val_images /255.0"
   ]
  },
  {
   "cell_type": "code",
   "execution_count": 6,
   "metadata": {},
   "outputs": [
    {
     "name": "stdout",
     "output_type": "stream",
     "text": [
      "Model: \"sequential\"\n",
      "_________________________________________________________________\n",
      "Layer (type)                 Output Shape              Param #   \n",
      "=================================================================\n",
      "conv2d (Conv2D)              (None, 26, 26, 64)        640       \n",
      "_________________________________________________________________\n",
      "max_pooling2d (MaxPooling2D) (None, 13, 13, 64)        0         \n",
      "_________________________________________________________________\n",
      "conv2d_1 (Conv2D)            (None, 11, 11, 64)        36928     \n",
      "_________________________________________________________________\n",
      "max_pooling2d_1 (MaxPooling2 (None, 5, 5, 64)          0         \n",
      "_________________________________________________________________\n",
      "flatten (Flatten)            (None, 1600)              0         \n",
      "_________________________________________________________________\n",
      "dense (Dense)                (None, 20)                32020     \n",
      "_________________________________________________________________\n",
      "dense_1 (Dense)              (None, 10)                210       \n",
      "=================================================================\n",
      "Total params: 69,798\n",
      "Trainable params: 69,798\n",
      "Non-trainable params: 0\n",
      "_________________________________________________________________\n"
     ]
    }
   ],
   "source": [
    "model = tf.keras.models.Sequential([\n",
    "    tf.keras.layers.Conv2D(64, (3,3), activation='relu', input_shape=(28,28,1)),\n",
    "    tf.keras.layers.MaxPooling2D(2,2),\n",
    "    tf.keras.layers.Conv2D(64, (3,3), activation='relu'),\n",
    "    tf.keras.layers.MaxPooling2D(2,2),\n",
    "    tf.keras.layers.Flatten(),\n",
    "    tf.keras.layers.Dense(20, activation='relu'),\n",
    "    tf.keras.layers.Dense(10, activation='softmax')\n",
    "])\n",
    "model.compile(optimizer='adam', loss='sparse_categorical_crossentropy', metrics=['accuracy'])\n",
    "model.summary()"
   ]
  },
  {
   "cell_type": "code",
   "execution_count": 9,
   "metadata": {},
   "outputs": [
    {
     "name": "stdout",
     "output_type": "stream",
     "text": [
      "Epoch 1/20\n",
      "1875/1875 [==============================] - 132s 70ms/step - loss: 0.5061 - accuracy: 0.8158 - val_loss: 0.3767 - val_accuracy: 0.8647\n",
      "Epoch 2/20\n",
      "1875/1875 [==============================] - 129s 69ms/step - loss: 0.3325 - accuracy: 0.8800 - val_loss: 0.3223 - val_accuracy: 0.8840\n",
      "Epoch 3/20\n",
      "1875/1875 [==============================] - 131s 70ms/step - loss: 0.2866 - accuracy: 0.8964 - val_loss: 0.3059 - val_accuracy: 0.8868\n",
      "Epoch 4/20\n",
      "1875/1875 [==============================] - 131s 70ms/step - loss: 0.2591 - accuracy: 0.9073 - val_loss: 0.3048 - val_accuracy: 0.8923\n",
      "Epoch 5/20\n",
      "1875/1875 [==============================] - 132s 70ms/step - loss: 0.2359 - accuracy: 0.9140 - val_loss: 0.2818 - val_accuracy: 0.9004\n",
      "Epoch 6/20\n",
      "1875/1875 [==============================] - 133s 71ms/step - loss: 0.2199 - accuracy: 0.9186 - val_loss: 0.2666 - val_accuracy: 0.9070\n",
      "Epoch 7/20\n",
      "1875/1875 [==============================] - 131s 70ms/step - loss: 0.2043 - accuracy: 0.9243 - val_loss: 0.2599 - val_accuracy: 0.9061\n",
      "Epoch 8/20\n",
      "1875/1875 [==============================] - 130s 69ms/step - loss: 0.1943 - accuracy: 0.9281 - val_loss: 0.2686 - val_accuracy: 0.9065\n",
      "Epoch 9/20\n",
      "1875/1875 [==============================] - 130s 69ms/step - loss: 0.1797 - accuracy: 0.9344 - val_loss: 0.2628 - val_accuracy: 0.9062\n",
      "Epoch 10/20\n",
      "1875/1875 [==============================] - 130s 69ms/step - loss: 0.1692 - accuracy: 0.9382 - val_loss: 0.2774 - val_accuracy: 0.9060\n",
      "Epoch 11/20\n",
      "1875/1875 [==============================] - 130s 69ms/step - loss: 0.1585 - accuracy: 0.9409 - val_loss: 0.3038 - val_accuracy: 0.9020\n",
      "Epoch 12/20\n",
      "1875/1875 [==============================] - 130s 69ms/step - loss: 0.1514 - accuracy: 0.9448 - val_loss: 0.2825 - val_accuracy: 0.9063\n",
      "Epoch 13/20\n",
      "1875/1875 [==============================] - 126s 67ms/step - loss: 0.1408 - accuracy: 0.9488 - val_loss: 0.2796 - val_accuracy: 0.9106\n",
      "Epoch 14/20\n",
      "1875/1875 [==============================] - 119s 63ms/step - loss: 0.1332 - accuracy: 0.9501 - val_loss: 0.3088 - val_accuracy: 0.9041\n",
      "Epoch 15/20\n",
      "1875/1875 [==============================] - 118s 63ms/step - loss: 0.1268 - accuracy: 0.9538 - val_loss: 0.2947 - val_accuracy: 0.9091\n",
      "Epoch 16/20\n",
      "1875/1875 [==============================] - 118s 63ms/step - loss: 0.1204 - accuracy: 0.9557 - val_loss: 0.3090 - val_accuracy: 0.9060ss: 0.1205 - accuracy: \n",
      "Epoch 17/20\n",
      "1875/1875 [==============================] - 118s 63ms/step - loss: 0.1130 - accuracy: 0.9589 - val_loss: 0.2989 - val_accuracy: 0.9096\n",
      "Epoch 18/20\n",
      "1875/1875 [==============================] - 119s 63ms/step - loss: 0.1077 - accuracy: 0.9599 - val_loss: 0.3295 - val_accuracy: 0.9029\n",
      "Epoch 19/20\n",
      "1875/1875 [==============================] - 119s 63ms/step - loss: 0.1017 - accuracy: 0.9625 - val_loss: 0.3179 - val_accuracy: 0.9104\n",
      "Epoch 20/20\n",
      "1875/1875 [==============================] - 118s 63ms/step - loss: 0.0977 - accuracy: 0.9649 - val_loss: 0.3283 - val_accuracy: 0.9026\n"
     ]
    },
    {
     "data": {
      "text/plain": [
       "<tensorflow.python.keras.callbacks.History at 0x226b14eaa00>"
      ]
     },
     "execution_count": 9,
     "metadata": {},
     "output_type": "execute_result"
    }
   ],
   "source": [
    "model.fit(training_images, training_labels, validation_data=(val_images, val_labels), epochs = 20)"
   ]
  },
  {
   "cell_type": "code",
   "execution_count": null,
   "metadata": {},
   "outputs": [],
   "source": []
  }
 ],
 "metadata": {
  "kernelspec": {
   "display_name": "Python 3",
   "language": "python",
   "name": "python3"
  },
  "language_info": {
   "codemirror_mode": {
    "name": "ipython",
    "version": 3
   },
   "file_extension": ".py",
   "mimetype": "text/x-python",
   "name": "python",
   "nbconvert_exporter": "python",
   "pygments_lexer": "ipython3",
   "version": "3.8.3"
  }
 },
 "nbformat": 4,
 "nbformat_minor": 4
}
